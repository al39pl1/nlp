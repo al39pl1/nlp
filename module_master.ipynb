{
 "cells": [
  {
   "cell_type": "code",
   "execution_count": null,
   "id": "3b3df7ea",
   "metadata": {},
   "outputs": [
    {
     "name": "stdout",
     "output_type": "stream",
     "text": [
      "Requirement already satisfied: pysrt in /home/admin/anaconda3/lib/python3.9/site-packages (1.1.2)\r\n",
      "Requirement already satisfied: chardet in /home/admin/anaconda3/lib/python3.9/site-packages (from pysrt) (4.0.0)\r\n"
     ]
    }
   ],
   "source": [
    "!pip install pysrt"
   ]
  },
  {
   "cell_type": "code",
   "execution_count": null,
   "id": "3d6ab3fa",
   "metadata": {},
   "outputs": [],
   "source": [
    "import re;\n",
    "import pandas as pd;\n",
    "import numpy as np;\n",
    "import pysrt;\n",
    "import nltk;\n",
    "from pathlib import Path as path;\n",
    "from sklearn.feature_extraction.text import CountVectorizer;\n",
    "from sklearn.feature_extraction.text import TfidfTransformer;\n",
    "from nltk.stem.porter import PorterStemmer;\n",
    "from nltk.corpus import stopwords;\n",
    "from sklearn.feature_extraction.text import TfidfVectorizer;\n",
    "from sklearn.pipeline import Pipeline;\n",
    "from sklearn.linear_model import LogisticRegression;\n",
    "from sklearn.model_selection import GridSearchCV;\n",
    "from sklearn.model_selection import train_test_split;\n",
    "\n",
    "nltk.download('stopwords')"
   ]
  },
  {
   "cell_type": "markdown",
   "id": "d3be3b18",
   "metadata": {},
   "source": [
    "### 1. Готовим данные."
   ]
  },
  {
   "cell_type": "markdown",
   "id": "17ee5f69",
   "metadata": {},
   "source": [
    "##### Проверяем данные."
   ]
  },
  {
   "cell_type": "code",
   "execution_count": null,
   "id": "7bdd5ddf",
   "metadata": {},
   "outputs": [],
   "source": [
    "language_complexity_df = pd.read_excel('./datasets/movies_labels.xlsx').iloc[:, 1:]\n",
    "display(language_complexity_df.head(10))"
   ]
  },
  {
   "cell_type": "markdown",
   "id": "3a1b6cfe",
   "metadata": {},
   "source": [
    "##### Создаем таблицу с субтитрами и названиями фильмов."
   ]
  },
  {
   "cell_type": "code",
   "execution_count": null,
   "id": "f1e6b461",
   "metadata": {},
   "outputs": [],
   "source": [
    "regex = re.compile('[0-9$\\#\\[\\],\\.*<>;!?-]')"
   ]
  },
  {
   "cell_type": "code",
   "execution_count": null,
   "id": "2ad4ccdd",
   "metadata": {
    "scrolled": true
   },
   "outputs": [],
   "source": [
    "folder = path('./datasets/subtitles')\n",
    "subtitle_name_map = []\n",
    "\n",
    "for file in folder.iterdir():\n",
    "    movie_name = file.stem;\n",
    "    subtitle = regex.sub('', \n",
    "                         pysrt.open('./datasets/subtitles/'+ file.stem + '.srt', encoding='iso-8859-1').text.lower())\n",
    "    subtitle_name_map.append([movie_name, subtitle])\n",
    "    \n",
    "subtitles_df = pd.DataFrame(data=subtitle_name_map, columns=['Movie', 'Subtitles'])"
   ]
  },
  {
   "cell_type": "markdown",
   "id": "83098457",
   "metadata": {},
   "source": [
    "##### Объединяем таблицы."
   ]
  },
  {
   "cell_type": "code",
   "execution_count": null,
   "id": "813ae30f",
   "metadata": {
    "scrolled": true
   },
   "outputs": [],
   "source": [
    "df = pd.merge(language_complexity_df, subtitles_df, on=\"Movie\")\n",
    "df = df.drop('Movie', axis=1)"
   ]
  },
  {
   "cell_type": "code",
   "execution_count": null,
   "id": "0e1b6ee8",
   "metadata": {},
   "outputs": [],
   "source": [
    "display(df.head(10))"
   ]
  },
  {
   "cell_type": "code",
   "execution_count": null,
   "id": "188a6c9d",
   "metadata": {},
   "outputs": [],
   "source": [
    "# решить проблему с A2/A2+ и тп."
   ]
  },
  {
   "cell_type": "markdown",
   "id": "9c4c78f9",
   "metadata": {},
   "source": [
    "### 2. Обучаем модель."
   ]
  },
  {
   "cell_type": "code",
   "execution_count": null,
   "id": "4f4579ee",
   "metadata": {},
   "outputs": [],
   "source": [
    "# Используем функции и стоп слова из nlp семинара.\n",
    "def tokenizer(text):\n",
    "    return text.split()\n",
    "\n",
    "def tokenizer_porter(text):\n",
    "    return [porter.stem(word) for word in text.split()]\n",
    "\n",
    "stop = stopwords.words('english')"
   ]
  },
  {
   "cell_type": "code",
   "execution_count": null,
   "id": "246566cf",
   "metadata": {},
   "outputs": [],
   "source": [
    "df_features = df.drop('Subtitles', axis=1)\n",
    "df_target = df['Subtitles']"
   ]
  },
  {
   "cell_type": "code",
   "execution_count": null,
   "id": "b95e953e",
   "metadata": {},
   "outputs": [],
   "source": [
    "# features_train, features_valid, target_train, target_valid = train_test_split(\n",
    "#     df_features,\n",
    "#     df_target,\n",
    "#     train_size=0.75,\n",
    "#     test_size=0.25)\n",
    "features_train = df.loc[:174, 'Subtitles'].values\n",
    "target_train = df.loc[:174, 'Level'].values\n",
    "features_valid = df.loc[174:, 'Subtitles'].values\n",
    "target_valid = df.loc[174:, 'Level'].values"
   ]
  },
  {
   "cell_type": "code",
   "execution_count": null,
   "id": "f7a9382e",
   "metadata": {},
   "outputs": [],
   "source": [
    "tfidf = TfidfVectorizer(strip_accents=None,\n",
    "                        lowercase=False,\n",
    "                        preprocessor=None)\n",
    "\n",
    "param_grid = [{'vect__ngram_range': [(1, 1)],\n",
    "               'vect__stop_words': [stop, None],\n",
    "               'vect__tokenizer': [tokenizer, tokenizer_porter],\n",
    "               'clf__penalty': ['l2'],\n",
    "               'clf__C': [1.0, 10.0, 100.0]},\n",
    "              {'vect__ngram_range': [(1, 1)],\n",
    "               'vect__stop_words': [stop, None],\n",
    "               'vect__tokenizer': [tokenizer, tokenizer_porter],\n",
    "               'vect__use_idf':[False],\n",
    "               'vect__norm':[None],\n",
    "               'clf__penalty': ['l2'],\n",
    "               'clf__C': [1.0, 10.0, 100.0]},\n",
    "              ]\n",
    "\n",
    "lr_tfidf = Pipeline([('vect', tfidf),\n",
    "                     ('clf', LogisticRegression(random_state=0))])\n",
    "\n",
    "gs_lr_tfidf = GridSearchCV(lr_tfidf, param_grid,\n",
    "                           scoring='accuracy',\n",
    "                           cv=5,\n",
    "                           verbose=1,\n",
    "                           n_jobs=-1)"
   ]
  },
  {
   "cell_type": "code",
   "execution_count": null,
   "id": "e37cd932",
   "metadata": {
    "scrolled": true
   },
   "outputs": [],
   "source": [
    "print(len(features_train))\n",
    "print(len(target_train))\n",
    "gs_lr_tfidf.fit(features_train, target_train)"
   ]
  },
  {
   "cell_type": "code",
   "execution_count": null,
   "id": "dd80ff43",
   "metadata": {},
   "outputs": [],
   "source": [
    "print('CV Accuracy: %.3f' % gs_lr_tfidf.best_score_)"
   ]
  },
  {
   "cell_type": "code",
   "execution_count": null,
   "id": "269a1c34",
   "metadata": {},
   "outputs": [],
   "source": [
    "clf = gs_lr_tfidf.best_estimator_\n",
    "print('Test Accuracy: %.3f' % clf.score(features_valid, target_valid))"
   ]
  },
  {
   "cell_type": "code",
   "execution_count": null,
   "id": "b64f07ed",
   "metadata": {},
   "outputs": [],
   "source": []
  }
 ],
 "metadata": {
  "kernelspec": {
   "display_name": "Python 3 (ipykernel)",
   "language": "python",
   "name": "python3"
  },
  "language_info": {
   "codemirror_mode": {
    "name": "ipython",
    "version": 3
   },
   "file_extension": ".py",
   "mimetype": "text/x-python",
   "name": "python",
   "nbconvert_exporter": "python",
   "pygments_lexer": "ipython3",
   "version": "3.9.13"
  }
 },
 "nbformat": 4,
 "nbformat_minor": 5
}
