{
 "cells": [
  {
   "cell_type": "code",
   "execution_count": 1,
   "id": "8ace175e",
   "metadata": {},
   "outputs": [
    {
     "name": "stdout",
     "output_type": "stream",
     "text": [
      "Requirement already satisfied: pysrt in /home/admin/anaconda3/lib/python3.9/site-packages (1.1.2)\r\n",
      "Requirement already satisfied: chardet in /home/admin/anaconda3/lib/python3.9/site-packages (from pysrt) (4.0.0)\r\n"
     ]
    }
   ],
   "source": [
    "!pip install pysrt"
   ]
  },
  {
   "cell_type": "code",
   "execution_count": 2,
   "id": "c6ecaff5",
   "metadata": {},
   "outputs": [
    {
     "name": "stderr",
     "output_type": "stream",
     "text": [
      "[nltk_data] Downloading package stopwords to /home/admin/nltk_data...\n",
      "[nltk_data]   Package stopwords is already up-to-date!\n"
     ]
    },
    {
     "data": {
      "text/plain": [
       "True"
      ]
     },
     "execution_count": 2,
     "metadata": {},
     "output_type": "execute_result"
    }
   ],
   "source": [
    "import re;\n",
    "import pandas as pd;\n",
    "import numpy as np;\n",
    "import pysrt;\n",
    "import nltk;\n",
    "from pathlib import Path as path;\n",
    "from sklearn.feature_extraction.text import CountVectorizer;\n",
    "from sklearn.feature_extraction.text import TfidfTransformer;\n",
    "from nltk.stem.porter import PorterStemmer;\n",
    "from nltk.corpus import stopwords;\n",
    "from sklearn.feature_extraction.text import TfidfVectorizer;\n",
    "from sklearn.pipeline import Pipeline;\n",
    "from sklearn.linear_model import LogisticRegression;\n",
    "from sklearn.model_selection import GridSearchCV;\n",
    "from sklearn.model_selection import train_test_split;\n",
    "\n",
    "nltk.download('stopwords')"
   ]
  },
  {
   "cell_type": "markdown",
   "id": "8821729d",
   "metadata": {},
   "source": [
    "### 1. Готовим данные."
   ]
  },
  {
   "cell_type": "markdown",
   "id": "9c342a8b",
   "metadata": {},
   "source": [
    "##### Проверяем данные."
   ]
  },
  {
   "cell_type": "code",
   "execution_count": 3,
   "id": "7d1d4856",
   "metadata": {},
   "outputs": [
    {
     "data": {
      "text/html": [
       "<div>\n",
       "<style scoped>\n",
       "    .dataframe tbody tr th:only-of-type {\n",
       "        vertical-align: middle;\n",
       "    }\n",
       "\n",
       "    .dataframe tbody tr th {\n",
       "        vertical-align: top;\n",
       "    }\n",
       "\n",
       "    .dataframe thead th {\n",
       "        text-align: right;\n",
       "    }\n",
       "</style>\n",
       "<table border=\"1\" class=\"dataframe\">\n",
       "  <thead>\n",
       "    <tr style=\"text-align: right;\">\n",
       "      <th></th>\n",
       "      <th>Movie</th>\n",
       "      <th>Level</th>\n",
       "    </tr>\n",
       "  </thead>\n",
       "  <tbody>\n",
       "    <tr>\n",
       "      <th>0</th>\n",
       "      <td>10_Cloverfield_lane(2016)</td>\n",
       "      <td>B1</td>\n",
       "    </tr>\n",
       "    <tr>\n",
       "      <th>1</th>\n",
       "      <td>10_things_I_hate_about_you(1999)</td>\n",
       "      <td>B1</td>\n",
       "    </tr>\n",
       "    <tr>\n",
       "      <th>2</th>\n",
       "      <td>A_knights_tale(2001)</td>\n",
       "      <td>B2</td>\n",
       "    </tr>\n",
       "    <tr>\n",
       "      <th>3</th>\n",
       "      <td>A_star_is_born(2018)</td>\n",
       "      <td>B2</td>\n",
       "    </tr>\n",
       "    <tr>\n",
       "      <th>4</th>\n",
       "      <td>Aladdin(1992)</td>\n",
       "      <td>A2/A2+</td>\n",
       "    </tr>\n",
       "    <tr>\n",
       "      <th>5</th>\n",
       "      <td>All_dogs_go_to_heaven(1989)</td>\n",
       "      <td>A2/A2+</td>\n",
       "    </tr>\n",
       "    <tr>\n",
       "      <th>6</th>\n",
       "      <td>An_American_tail(1986)</td>\n",
       "      <td>A2/A2+</td>\n",
       "    </tr>\n",
       "    <tr>\n",
       "      <th>7</th>\n",
       "      <td>Babe(1995)</td>\n",
       "      <td>A2/A2+</td>\n",
       "    </tr>\n",
       "    <tr>\n",
       "      <th>8</th>\n",
       "      <td>Back_to_the_future(1985)</td>\n",
       "      <td>A2/A2+</td>\n",
       "    </tr>\n",
       "    <tr>\n",
       "      <th>9</th>\n",
       "      <td>Banking_On_Bitcoin(2016)</td>\n",
       "      <td>C1</td>\n",
       "    </tr>\n",
       "  </tbody>\n",
       "</table>\n",
       "</div>"
      ],
      "text/plain": [
       "                              Movie   Level\n",
       "0         10_Cloverfield_lane(2016)      B1\n",
       "1  10_things_I_hate_about_you(1999)      B1\n",
       "2              A_knights_tale(2001)      B2\n",
       "3              A_star_is_born(2018)      B2\n",
       "4                     Aladdin(1992)  A2/A2+\n",
       "5       All_dogs_go_to_heaven(1989)  A2/A2+\n",
       "6            An_American_tail(1986)  A2/A2+\n",
       "7                        Babe(1995)  A2/A2+\n",
       "8          Back_to_the_future(1985)  A2/A2+\n",
       "9          Banking_On_Bitcoin(2016)      C1"
      ]
     },
     "metadata": {},
     "output_type": "display_data"
    }
   ],
   "source": [
    "language_complexity_df = pd.read_excel('./datasets/movies_labels.xlsx').iloc[:, 1:]\n",
    "display(language_complexity_df.head(10))"
   ]
  },
  {
   "cell_type": "markdown",
   "id": "fbd4fc2a",
   "metadata": {},
   "source": [
    "##### Создаем таблицу с субтитрами и названиями фильмов."
   ]
  },
  {
   "cell_type": "code",
   "execution_count": 4,
   "id": "2808a10d",
   "metadata": {},
   "outputs": [],
   "source": [
    "regex = re.compile('[0-9$\\#\\[\\],\\.*<>;!?-]')"
   ]
  },
  {
   "cell_type": "code",
   "execution_count": 5,
   "id": "9cd780d7",
   "metadata": {
    "scrolled": true
   },
   "outputs": [],
   "source": [
    "folder = path('./datasets/subtitles')\n",
    "subtitle_name_map = []\n",
    "\n",
    "for file in folder.iterdir():\n",
    "    movie_name = file.stem;\n",
    "    subtitle = regex.sub('', \n",
    "                         pysrt.open('./datasets/subtitles/'+ file.stem + '.srt', encoding='iso-8859-1').text.lower())\n",
    "    subtitle_name_map.append([movie_name, subtitle])\n",
    "    \n",
    "subtitles_df = pd.DataFrame(data=subtitle_name_map, columns=['Movie', 'Subtitles'])"
   ]
  },
  {
   "cell_type": "markdown",
   "id": "8138cba8",
   "metadata": {},
   "source": [
    "##### Объединяем таблицы."
   ]
  },
  {
   "cell_type": "code",
   "execution_count": 6,
   "id": "14c60799",
   "metadata": {
    "scrolled": true
   },
   "outputs": [],
   "source": [
    "df = pd.merge(language_complexity_df, subtitles_df, on=\"Movie\")\n",
    "df = df.drop('Movie', axis=1)"
   ]
  },
  {
   "cell_type": "code",
   "execution_count": 7,
   "id": "0bdb0e31",
   "metadata": {},
   "outputs": [
    {
     "data": {
      "text/html": [
       "<div>\n",
       "<style scoped>\n",
       "    .dataframe tbody tr th:only-of-type {\n",
       "        vertical-align: middle;\n",
       "    }\n",
       "\n",
       "    .dataframe tbody tr th {\n",
       "        vertical-align: top;\n",
       "    }\n",
       "\n",
       "    .dataframe thead th {\n",
       "        text-align: right;\n",
       "    }\n",
       "</style>\n",
       "<table border=\"1\" class=\"dataframe\">\n",
       "  <thead>\n",
       "    <tr style=\"text-align: right;\">\n",
       "      <th></th>\n",
       "      <th>Level</th>\n",
       "      <th>Subtitles</th>\n",
       "    </tr>\n",
       "  </thead>\n",
       "  <tbody>\n",
       "    <tr>\n",
       "      <th>0</th>\n",
       "      <td>B1</td>\n",
       "      <td>font color=\"ffff\"bfixed &amp; synced by bozxphd en...</td>\n",
       "    </tr>\n",
       "    <tr>\n",
       "      <th>1</th>\n",
       "      <td>B1</td>\n",
       "      <td>hey\\ni'll be right with you\\nso cameron here y...</td>\n",
       "    </tr>\n",
       "    <tr>\n",
       "      <th>2</th>\n",
       "      <td>B2</td>\n",
       "      <td>resync: xenzainef\\nretail\\nshould we help him\\...</td>\n",
       "    </tr>\n",
       "    <tr>\n",
       "      <th>3</th>\n",
       "      <td>B2</td>\n",
       "      <td>ifont color=\"ffffff\" synced and corrected by/...</td>\n",
       "    </tr>\n",
       "    <tr>\n",
       "      <th>4</th>\n",
       "      <td>A2/A2+</td>\n",
       "      <td>ioh i come from a land\\nfrom a faraway place/i...</td>\n",
       "    </tr>\n",
       "    <tr>\n",
       "      <th>5</th>\n",
       "      <td>A2/A2+</td>\n",
       "      <td>captioning made possible by\\nmgm home entertai...</td>\n",
       "    </tr>\n",
       "    <tr>\n",
       "      <th>6</th>\n",
       "      <td>A2/A2+</td>\n",
       "      <td>(indistinct conversation)\\n(all laughing)\\nmam...</td>\n",
       "    </tr>\n",
       "    <tr>\n",
       "      <th>7</th>\n",
       "      <td>A2/A2+</td>\n",
       "      <td>this is a tale aboutbr/an unprejudiced heart\\n...</td>\n",
       "    </tr>\n",
       "    <tr>\n",
       "      <th>8</th>\n",
       "      <td>A2/A2+</td>\n",
       "      <td>october is inventory time\\nso right now statle...</td>\n",
       "    </tr>\n",
       "    <tr>\n",
       "      <th>9</th>\n",
       "      <td>C1</td>\n",
       "      <td>downloaded from\\nytsmx\\nofficial yify movies s...</td>\n",
       "    </tr>\n",
       "  </tbody>\n",
       "</table>\n",
       "</div>"
      ],
      "text/plain": [
       "    Level                                          Subtitles\n",
       "0      B1  font color=\"ffff\"bfixed & synced by bozxphd en...\n",
       "1      B1  hey\\ni'll be right with you\\nso cameron here y...\n",
       "2      B2  resync: xenzainef\\nretail\\nshould we help him\\...\n",
       "3      B2   ifont color=\"ffffff\" synced and corrected by/...\n",
       "4  A2/A2+  ioh i come from a land\\nfrom a faraway place/i...\n",
       "5  A2/A2+  captioning made possible by\\nmgm home entertai...\n",
       "6  A2/A2+  (indistinct conversation)\\n(all laughing)\\nmam...\n",
       "7  A2/A2+  this is a tale aboutbr/an unprejudiced heart\\n...\n",
       "8  A2/A2+  october is inventory time\\nso right now statle...\n",
       "9      C1  downloaded from\\nytsmx\\nofficial yify movies s..."
      ]
     },
     "metadata": {},
     "output_type": "display_data"
    }
   ],
   "source": [
    "display(df.head(10))"
   ]
  },
  {
   "cell_type": "code",
   "execution_count": 8,
   "id": "c7b570a4",
   "metadata": {},
   "outputs": [],
   "source": [
    "# решить проблему с A2/A2+ и тп."
   ]
  },
  {
   "cell_type": "markdown",
   "id": "afc64b18",
   "metadata": {},
   "source": [
    "### 2. Обучаем модель."
   ]
  },
  {
   "cell_type": "code",
   "execution_count": 9,
   "id": "afaa043c",
   "metadata": {},
   "outputs": [],
   "source": [
    "# Используем функции и стоп слова из nlp семинара.\n",
    "def tokenizer(text):\n",
    "    return text.split()\n",
    "\n",
    "def tokenizer_porter(text):\n",
    "    return [porter.stem(word) for word in text.split()]\n",
    "\n",
    "stop = stopwords.words('english')"
   ]
  },
  {
   "cell_type": "code",
   "execution_count": 10,
   "id": "2a823ed0",
   "metadata": {},
   "outputs": [],
   "source": [
    "df_features = df.drop('Subtitles', axis=1)\n",
    "df_target = df['Subtitles']"
   ]
  },
  {
   "cell_type": "code",
   "execution_count": 11,
   "id": "d4768552",
   "metadata": {},
   "outputs": [],
   "source": [
    "# features_train, features_valid, target_train, target_valid = train_test_split(\n",
    "#     df_features,\n",
    "#     df_target,\n",
    "#     train_size=0.75,\n",
    "#     test_size=0.25)\n",
    "features_train = df.loc[:174, 'Subtitles'].values\n",
    "target_train = df.loc[:174, 'Level'].values\n",
    "features_valid = df.loc[174:, 'Subtitles'].values\n",
    "target_valid = df.loc[174:, 'Level'].values"
   ]
  },
  {
   "cell_type": "code",
   "execution_count": 12,
   "id": "ecae415c",
   "metadata": {},
   "outputs": [],
   "source": [
    "tfidf = TfidfVectorizer(strip_accents=None,\n",
    "                        lowercase=False,\n",
    "                        preprocessor=None)\n",
    "\n",
    "param_grid = [{'vect__ngram_range': [(1, 1)],\n",
    "               'vect__stop_words': [stop, None],\n",
    "               'vect__tokenizer': [tokenizer, tokenizer_porter],\n",
    "               'clf__penalty': ['l2'],\n",
    "               'clf__C': [1.0, 10.0, 100.0]},\n",
    "              {'vect__ngram_range': [(1, 1)],\n",
    "               'vect__stop_words': [stop, None],\n",
    "               'vect__tokenizer': [tokenizer, tokenizer_porter],\n",
    "               'vect__use_idf':[False],\n",
    "               'vect__norm':[None],\n",
    "               'clf__penalty': ['l2'],\n",
    "               'clf__C': [1.0, 10.0, 100.0]},\n",
    "              ]\n",
    "\n",
    "lr_tfidf = Pipeline([('vect', tfidf),\n",
    "                     ('clf', LogisticRegression(random_state=0))])\n",
    "\n",
    "gs_lr_tfidf = GridSearchCV(lr_tfidf, param_grid,\n",
    "                           scoring='accuracy',\n",
    "                           cv=5,\n",
    "                           verbose=1,\n",
    "                           n_jobs=-1)"
   ]
  },
  {
   "cell_type": "code",
   "execution_count": null,
   "id": "c5b3a8a8",
   "metadata": {
    "scrolled": true
   },
   "outputs": [
    {
     "name": "stdout",
     "output_type": "stream",
     "text": [
      "175\n",
      "175\n",
      "Fitting 5 folds for each of 24 candidates, totalling 120 fits\n"
     ]
    }
   ],
   "source": [
    "gs_lr_tfidf.fit(features_train, target_train)"
   ]
  },
  {
   "cell_type": "code",
   "execution_count": null,
   "id": "e2ecd3e2",
   "metadata": {},
   "outputs": [],
   "source": [
    "print('CV Accuracy: %.3f' % gs_lr_tfidf.best_score_)"
   ]
  },
  {
   "cell_type": "code",
   "execution_count": null,
   "id": "dedb1b86",
   "metadata": {},
   "outputs": [],
   "source": [
    "clf = gs_lr_tfidf.best_estimator_\n",
    "print('Test Accuracy: %.3f' % clf.score(features_valid, target_valid))"
   ]
  },
  {
   "cell_type": "code",
   "execution_count": null,
   "id": "881b826f",
   "metadata": {},
   "outputs": [],
   "source": []
  }
 ],
 "metadata": {
  "kernelspec": {
   "display_name": "Python 3 (ipykernel)",
   "language": "python",
   "name": "python3"
  },
  "language_info": {
   "codemirror_mode": {
    "name": "ipython",
    "version": 3
   },
   "file_extension": ".py",
   "mimetype": "text/x-python",
   "name": "python",
   "nbconvert_exporter": "python",
   "pygments_lexer": "ipython3",
   "version": "3.9.13"
  }
 },
 "nbformat": 4,
 "nbformat_minor": 5
}
